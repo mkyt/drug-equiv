{
 "cells": [
  {
   "cell_type": "code",
   "execution_count": 15,
   "metadata": {},
   "outputs": [],
   "source": [
    "import pandas as pd\n",
    "import json\n",
    "df = pd.read_excel('drug_master.xlsx')"
   ]
  },
  {
   "cell_type": "code",
   "execution_count": 9,
   "metadata": {},
   "outputs": [],
   "source": [
    "df['ID'] = df['ID'].astype(int)"
   ]
  },
  {
   "cell_type": "code",
   "execution_count": 11,
   "metadata": {},
   "outputs": [],
   "source": [
    "name2id = {}\n",
    "drugs = {}\n",
    "\n",
    "for item in df.to_dict(orient='records'):\n",
    "    item_id = item['ID']\n",
    "    gn = item['一般名']\n",
    "    pns = item['商品名（\"、\"区切り）']\n",
    "\n",
    "    if item['一般名非表示'] != 'y':\n",
    "        name2id[gn] = item_id\n",
    "    pnl = []\n",
    "    if isinstance(pns, str):\n",
    "        pnl =pns.split('、')\n",
    "    for pn in pnl:\n",
    "        name2id[pn] = item_id\n",
    "\n",
    "    equiv_potency = {\n",
    "        'cp_fga': item['CP換算力価(FGA)'],\n",
    "        'cp_sga': item['CP換算力価(SGA)'],\n",
    "        'bpd': item['BPD換算力価'],\n",
    "        'imp': item['IMP換算力価'],\n",
    "        'dzp': item['DZP換算力価'],\n",
    "    }\n",
    "\n",
    "    d = {\n",
    "        'id': item_id,\n",
    "        'generic_name': gn,\n",
    "        'product_names': pnl,\n",
    "        'unit': item['Unit'],\n",
    "        'class': item['クラス'],\n",
    "        'equiv_potency': equiv_potency,\n",
    "    }\n",
    "    drugs[item_id] = d"
   ]
  },
  {
   "cell_type": "code",
   "execution_count": 17,
   "metadata": {},
   "outputs": [],
   "source": [
    "json.dump(name2id, open('src/name2id.json', 'w'), indent=2)\n",
    "json.dump(drugs, open('src/drugs.json', 'w'), indent=2)"
   ]
  },
  {
   "cell_type": "code",
   "execution_count": null,
   "metadata": {},
   "outputs": [],
   "source": []
  }
 ],
 "metadata": {
  "kernelspec": {
   "display_name": "Python 3.9.7 ('base')",
   "language": "python",
   "name": "python3"
  },
  "language_info": {
   "codemirror_mode": {
    "name": "ipython",
    "version": 3
   },
   "file_extension": ".py",
   "mimetype": "text/x-python",
   "name": "python",
   "nbconvert_exporter": "python",
   "pygments_lexer": "ipython3",
   "version": "3.9.7"
  },
  "orig_nbformat": 4,
  "vscode": {
   "interpreter": {
    "hash": "0058470db3dd05b9732bb634cfe3c9b781f555d917c68d23f2e52b1114c40688"
   }
  }
 },
 "nbformat": 4,
 "nbformat_minor": 2
}
